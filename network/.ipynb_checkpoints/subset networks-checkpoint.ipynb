{
 "cells": [
  {
   "cell_type": "markdown",
   "metadata": {},
   "source": [
    "# subWESTnet \n",
    "\n",
    "A tool that will construct the downstream and/or upstream network from a specified utility.\n",
    "\n",
    "----\n",
    "\n",
    "### NOTE:\n",
    "\n",
    "The network balancing uses the nodes calculated from only upstream and downstream and *does not* consider the entire network of utilities for the calculations. For example if a utility is chosen for a downstream graph, if it is not a source (i.e. in the middle of some path), it will not consider the utilities before it. As a result, the chosen utility's resulting energy is 0 kwh/af. This will also apply to children in the network that have one or more \"parents\" not directly linked to the original specified source. \n",
    "\n",
    "The same issue applies to upstream graphs, where some \"parent\" utility might serve other utilities downstream but is not linked to the utility that was initially chosen.\n",
    "\n",
    "----"
   ]
  },
  {
   "cell_type": "code",
   "execution_count": 1,
   "metadata": {},
   "outputs": [],
   "source": [
    "from sub_network import subWESTnet"
   ]
  },
  {
   "cell_type": "markdown",
   "metadata": {},
   "source": [
    "Run the following cell to initialize the model. It takes two arguments, the first specifies the file path of the data; the second sorts the data by year for the calculations.\n",
    "\n",
    "**Note:** I am creating two different instances because I dont want the graphs to be overwritten, since I'm using two examples."
   ]
  },
  {
   "cell_type": "code",
   "execution_count": 2,
   "metadata": {},
   "outputs": [],
   "source": [
    "upstream_example = subWESTnet('data/links_erl.csv', 2010)\n",
    "downstream_example = subWESTnet('data/links_erl.csv', 2010)"
   ]
  },
  {
   "cell_type": "markdown",
   "metadata": {},
   "source": [
    "The following table shows which methods to call on the model.\n",
    "\n",
    "| Method           | Purpose                                                 | Returns |\n",
    "|------------------|---------------------------------------------------------|---------|\n",
    "|`.upstream(*)`   |Creates an upstram graph from `*`,<br> the name of a utility.|Nothing, but `Unweighted upstream graph built` will be <br> printed if the graph was successfully created.|\n",
    "|`.downstream(*)` |Creates a downstream graph from `*`. | Similar statement printed (just corrected to downstream). |\n",
    "\n",
    "Run the following cell so that the upstream network starting from the utility `1803033E` will be created."
   ]
  },
  {
   "cell_type": "code",
   "execution_count": 3,
   "metadata": {},
   "outputs": [
    {
     "name": "stdout",
     "output_type": "stream",
     "text": [
      "Unweighted upstream graph built.\n"
     ]
    }
   ],
   "source": [
    "upstream_example.upstream('1803033E')"
   ]
  },
  {
   "cell_type": "markdown",
   "metadata": {},
   "source": [
    "-----\n",
    "In a similar fashion, running the following cell creates the downstream network from `SW1803SWP18`."
   ]
  },
  {
   "cell_type": "code",
   "execution_count": 4,
   "metadata": {},
   "outputs": [
    {
     "name": "stdout",
     "output_type": "stream",
     "text": [
      "Unweighted downstream graph complete.\n"
     ]
    }
   ],
   "source": [
    "downstream_example.downstream('SW1803SWP18')"
   ]
  },
  {
   "cell_type": "markdown",
   "metadata": {},
   "source": [
    "-----\n",
    "\n",
    "After the network is created, you can either:\n",
    "\n",
    "1. See the table of the utilities in the network \n",
    "2. Save the network to a dot file\n",
    "3. Balance the graph\n",
    "\n",
    "The following cell will show options 1 and 3."
   ]
  },
  {
   "cell_type": "code",
   "execution_count": 5,
   "metadata": {},
   "outputs": [
    {
     "name": "stdout",
     "output_type": "stream",
     "text": [
      "Graph is weighted.\n"
     ]
    },
    {
     "data": {
      "text/html": [
       "<div>\n",
       "<style scoped>\n",
       "    .dataframe tbody tr th:only-of-type {\n",
       "        vertical-align: middle;\n",
       "    }\n",
       "\n",
       "    .dataframe tbody tr th {\n",
       "        vertical-align: top;\n",
       "    }\n",
       "\n",
       "    .dataframe thead th {\n",
       "        text-align: right;\n",
       "    }\n",
       "</style>\n",
       "<table border=\"1\" class=\"dataframe\">\n",
       "  <thead>\n",
       "    <tr style=\"text-align: right;\">\n",
       "      <th></th>\n",
       "      <th>source</th>\n",
       "      <th>target</th>\n",
       "      <th>cumulative_volume_af</th>\n",
       "      <th>transmission_kwh/af</th>\n",
       "      <th>treatment_kwh/af</th>\n",
       "      <th>used_vol_af</th>\n",
       "    </tr>\n",
       "  </thead>\n",
       "  <tbody>\n",
       "    <tr>\n",
       "      <th>0</th>\n",
       "      <td>SW_CVPFKC</td>\n",
       "      <td>1803033E</td>\n",
       "      <td>53121.00000</td>\n",
       "      <td>23.220000</td>\n",
       "      <td>0.0</td>\n",
       "      <td>53121.00</td>\n",
       "    </tr>\n",
       "    <tr>\n",
       "      <th>1</th>\n",
       "      <td>1803033GW</td>\n",
       "      <td>1803033PD</td>\n",
       "      <td>30799.03923</td>\n",
       "      <td>399.000000</td>\n",
       "      <td>26.0</td>\n",
       "      <td>29572.94</td>\n",
       "    </tr>\n",
       "    <tr>\n",
       "      <th>2</th>\n",
       "      <td>FRES_ID</td>\n",
       "      <td>1803033PD</td>\n",
       "      <td>19023.93641</td>\n",
       "      <td>87.000000</td>\n",
       "      <td>224.0</td>\n",
       "      <td>18266.60</td>\n",
       "    </tr>\n",
       "    <tr>\n",
       "      <th>3</th>\n",
       "      <td>SW_CVPFKC</td>\n",
       "      <td>1803033PD</td>\n",
       "      <td>14701.51218</td>\n",
       "      <td>23.220000</td>\n",
       "      <td>224.0</td>\n",
       "      <td>14116.25</td>\n",
       "    </tr>\n",
       "    <tr>\n",
       "      <th>4</th>\n",
       "      <td>RES_MLRTN</td>\n",
       "      <td>SW_CVPFKC</td>\n",
       "      <td>67956.99412</td>\n",
       "      <td>0.000000</td>\n",
       "      <td>0.0</td>\n",
       "      <td>67371.23</td>\n",
       "    </tr>\n",
       "    <tr>\n",
       "      <th>5</th>\n",
       "      <td>1803033PD</td>\n",
       "      <td>1803033E</td>\n",
       "      <td>61955.79000</td>\n",
       "      <td>17.600000</td>\n",
       "      <td>0.0</td>\n",
       "      <td>61955.79</td>\n",
       "    </tr>\n",
       "    <tr>\n",
       "      <th>6</th>\n",
       "      <td>1803033REC</td>\n",
       "      <td>1803033NPD</td>\n",
       "      <td>88.00000</td>\n",
       "      <td>0.000000</td>\n",
       "      <td>236.0</td>\n",
       "      <td>88.00</td>\n",
       "    </tr>\n",
       "    <tr>\n",
       "      <th>7</th>\n",
       "      <td>1803033NPD</td>\n",
       "      <td>1803033E</td>\n",
       "      <td>88.00000</td>\n",
       "      <td>21.120000</td>\n",
       "      <td>0.0</td>\n",
       "      <td>88.00</td>\n",
       "    </tr>\n",
       "    <tr>\n",
       "      <th>8</th>\n",
       "      <td>GW1803-5-22.08</td>\n",
       "      <td>1803033GW</td>\n",
       "      <td>30799.03923</td>\n",
       "      <td>0.000000</td>\n",
       "      <td>0.0</td>\n",
       "      <td>29572.94</td>\n",
       "    </tr>\n",
       "    <tr>\n",
       "      <th>9</th>\n",
       "      <td>GW1803-5-22</td>\n",
       "      <td>GW1803-5-22.08</td>\n",
       "      <td>51162.00619</td>\n",
       "      <td>0.000000</td>\n",
       "      <td>0.0</td>\n",
       "      <td>49779.01</td>\n",
       "    </tr>\n",
       "    <tr>\n",
       "      <th>10</th>\n",
       "      <td>GWR1803-5-22.08</td>\n",
       "      <td>1803033GW</td>\n",
       "      <td>14701.51218</td>\n",
       "      <td>0.000000</td>\n",
       "      <td>26.0</td>\n",
       "      <td>0.00</td>\n",
       "    </tr>\n",
       "    <tr>\n",
       "      <th>11</th>\n",
       "      <td>WWT1803033</td>\n",
       "      <td>1803033REC</td>\n",
       "      <td>14789.51218</td>\n",
       "      <td>0.642618</td>\n",
       "      <td>0.0</td>\n",
       "      <td>88.00</td>\n",
       "    </tr>\n",
       "    <tr>\n",
       "      <th>12</th>\n",
       "      <td>1803033REC</td>\n",
       "      <td>GWR1803-5-22.08</td>\n",
       "      <td>14701.51218</td>\n",
       "      <td>749.000000</td>\n",
       "      <td>1095.0</td>\n",
       "      <td>0.00</td>\n",
       "    </tr>\n",
       "    <tr>\n",
       "      <th>13</th>\n",
       "      <td>1803033GW</td>\n",
       "      <td>1803033E</td>\n",
       "      <td>14116.25000</td>\n",
       "      <td>17.600000</td>\n",
       "      <td>0.0</td>\n",
       "      <td>0.00</td>\n",
       "    </tr>\n",
       "  </tbody>\n",
       "</table>\n",
       "</div>"
      ],
      "text/plain": [
       "             source           target  cumulative_volume_af  \\\n",
       "0         SW_CVPFKC         1803033E           53121.00000   \n",
       "1         1803033GW        1803033PD           30799.03923   \n",
       "2           FRES_ID        1803033PD           19023.93641   \n",
       "3         SW_CVPFKC        1803033PD           14701.51218   \n",
       "4         RES_MLRTN        SW_CVPFKC           67956.99412   \n",
       "5         1803033PD         1803033E           61955.79000   \n",
       "6        1803033REC       1803033NPD              88.00000   \n",
       "7        1803033NPD         1803033E              88.00000   \n",
       "8    GW1803-5-22.08        1803033GW           30799.03923   \n",
       "9       GW1803-5-22   GW1803-5-22.08           51162.00619   \n",
       "10  GWR1803-5-22.08        1803033GW           14701.51218   \n",
       "11       WWT1803033       1803033REC           14789.51218   \n",
       "12       1803033REC  GWR1803-5-22.08           14701.51218   \n",
       "13        1803033GW         1803033E           14116.25000   \n",
       "\n",
       "    transmission_kwh/af  treatment_kwh/af  used_vol_af  \n",
       "0             23.220000               0.0     53121.00  \n",
       "1            399.000000              26.0     29572.94  \n",
       "2             87.000000             224.0     18266.60  \n",
       "3             23.220000             224.0     14116.25  \n",
       "4              0.000000               0.0     67371.23  \n",
       "5             17.600000               0.0     61955.79  \n",
       "6              0.000000             236.0        88.00  \n",
       "7             21.120000               0.0        88.00  \n",
       "8              0.000000               0.0     29572.94  \n",
       "9              0.000000               0.0     49779.01  \n",
       "10             0.000000              26.0         0.00  \n",
       "11             0.642618               0.0        88.00  \n",
       "12           749.000000            1095.0         0.00  \n",
       "13            17.600000               0.0         0.00  "
      ]
     },
     "execution_count": 5,
     "metadata": {},
     "output_type": "execute_result"
    }
   ],
   "source": [
    "# Balance graph -- when complete, it will print \"Graph is weighted\"\n",
    "upstream_example.balance_graph()\n",
    "\n",
    "# Table of utilities\n",
    "upstream_example.table()"
   ]
  },
  {
   "cell_type": "markdown",
   "metadata": {},
   "source": [
    "When balancing the graph, a table with the volume weighted averages is created and can be saved, like the original WESTnet tool. In order to save the table, call `upstream_example.save_energy_df(filename)`, where filename is a string of the csv name.\n",
    "\n",
    "The cell below saves the table (commented out), and will also show the table for the upstream example."
   ]
  },
  {
   "cell_type": "code",
   "execution_count": 6,
   "metadata": {},
   "outputs": [
    {
     "data": {
      "text/html": [
       "<div>\n",
       "<style scoped>\n",
       "    .dataframe tbody tr th:only-of-type {\n",
       "        vertical-align: middle;\n",
       "    }\n",
       "\n",
       "    .dataframe tbody tr th {\n",
       "        vertical-align: top;\n",
       "    }\n",
       "\n",
       "    .dataframe thead th {\n",
       "        text-align: right;\n",
       "    }\n",
       "</style>\n",
       "<table border=\"1\" class=\"dataframe\">\n",
       "  <thead>\n",
       "    <tr style=\"text-align: right;\">\n",
       "      <th></th>\n",
       "      <th>node</th>\n",
       "      <th>kwh/af</th>\n",
       "    </tr>\n",
       "  </thead>\n",
       "  <tbody>\n",
       "    <tr>\n",
       "      <th>0</th>\n",
       "      <td>WWT1803033</td>\n",
       "      <td>0.000000</td>\n",
       "    </tr>\n",
       "    <tr>\n",
       "      <th>1</th>\n",
       "      <td>FRES_ID</td>\n",
       "      <td>0.000000</td>\n",
       "    </tr>\n",
       "    <tr>\n",
       "      <th>2</th>\n",
       "      <td>RES_MLRTN</td>\n",
       "      <td>0.000000</td>\n",
       "    </tr>\n",
       "    <tr>\n",
       "      <th>3</th>\n",
       "      <td>1803033REC</td>\n",
       "      <td>0.642618</td>\n",
       "    </tr>\n",
       "    <tr>\n",
       "      <th>4</th>\n",
       "      <td>1803033NPD</td>\n",
       "      <td>236.642618</td>\n",
       "    </tr>\n",
       "    <tr>\n",
       "      <th>5</th>\n",
       "      <td>GW1803-5-22</td>\n",
       "      <td>0.000000</td>\n",
       "    </tr>\n",
       "    <tr>\n",
       "      <th>6</th>\n",
       "      <td>GW1803-5-22.08</td>\n",
       "      <td>0.000000</td>\n",
       "    </tr>\n",
       "    <tr>\n",
       "      <th>7</th>\n",
       "      <td>GWR1803-5-22.08</td>\n",
       "      <td>1844.642618</td>\n",
       "    </tr>\n",
       "    <tr>\n",
       "      <th>8</th>\n",
       "      <td>SW_CVPFKC</td>\n",
       "      <td>0.000000</td>\n",
       "    </tr>\n",
       "    <tr>\n",
       "      <th>9</th>\n",
       "      <td>1803033GW</td>\n",
       "      <td>604.416306</td>\n",
       "    </tr>\n",
       "    <tr>\n",
       "      <th>10</th>\n",
       "      <td>1803033PD</td>\n",
       "      <td>639.384932</td>\n",
       "    </tr>\n",
       "    <tr>\n",
       "      <th>11</th>\n",
       "      <td>1803033E</td>\n",
       "      <td>392.483777</td>\n",
       "    </tr>\n",
       "  </tbody>\n",
       "</table>\n",
       "</div>"
      ],
      "text/plain": [
       "               node       kwh/af\n",
       "0        WWT1803033     0.000000\n",
       "1           FRES_ID     0.000000\n",
       "2         RES_MLRTN     0.000000\n",
       "3        1803033REC     0.642618\n",
       "4        1803033NPD   236.642618\n",
       "5       GW1803-5-22     0.000000\n",
       "6    GW1803-5-22.08     0.000000\n",
       "7   GWR1803-5-22.08  1844.642618\n",
       "8         SW_CVPFKC     0.000000\n",
       "9         1803033GW   604.416306\n",
       "10        1803033PD   639.384932\n",
       "11         1803033E   392.483777"
      ]
     },
     "execution_count": 6,
     "metadata": {},
     "output_type": "execute_result"
    }
   ],
   "source": [
    "# I commented this out because I didn't want extra files to be in the same directory :)\n",
    "#upstream_example.save_energy_df('1803033E_volavgs')\n",
    "\n",
    "upstream_example.energy"
   ]
  },
  {
   "cell_type": "markdown",
   "metadata": {},
   "source": [
    "After the graph is balanced, the graph can be saved to a dot file! In order to save the dot file, call `.to_dot()`. It will save to the output folder in your current directory by default.\n",
    "\n",
    "**Note:** If the graph isn't balanced, the resulting network will have uncolored nodes."
   ]
  },
  {
   "cell_type": "code",
   "execution_count": 9,
   "metadata": {},
   "outputs": [],
   "source": [
    "upstream_example.to_dot?"
   ]
  },
  {
   "cell_type": "code",
   "execution_count": 8,
   "metadata": {},
   "outputs": [
    {
     "ename": "FileNotFoundError",
     "evalue": "[Errno 2] No such file or directory: 'output/sub_1803033E_2010_upstream.dot'",
     "output_type": "error",
     "traceback": [
      "\u001b[1;31m---------------------------------------------------------------------------\u001b[0m",
      "\u001b[1;31mFileNotFoundError\u001b[0m                         Traceback (most recent call last)",
      "\u001b[1;32m<ipython-input-8-efdd52def86d>\u001b[0m in \u001b[0;36m<module>\u001b[1;34m()\u001b[0m\n\u001b[0;32m      1\u001b[0m \u001b[1;31m# will have colors\u001b[0m\u001b[1;33m\u001b[0m\u001b[1;33m\u001b[0m\u001b[0m\n\u001b[1;32m----> 2\u001b[1;33m \u001b[0mupstream_example\u001b[0m\u001b[1;33m.\u001b[0m\u001b[0mto_dot\u001b[0m\u001b[1;33m(\u001b[0m\u001b[1;33m)\u001b[0m\u001b[1;33m\u001b[0m\u001b[0m\n\u001b[0m\u001b[0;32m      3\u001b[0m \u001b[1;33m\u001b[0m\u001b[0m\n\u001b[0;32m      4\u001b[0m \u001b[1;31m# won't have colors\u001b[0m\u001b[1;33m\u001b[0m\u001b[1;33m\u001b[0m\u001b[0m\n\u001b[0;32m      5\u001b[0m \u001b[0mdownstream_example\u001b[0m\u001b[1;33m.\u001b[0m\u001b[0mto_dot\u001b[0m\u001b[1;33m(\u001b[0m\u001b[1;33m)\u001b[0m\u001b[1;33m\u001b[0m\u001b[0m\n",
      "\u001b[1;32m~\\OneDrive\\Desktop\\Modules\\westnet-update\\network\\sub_network.py\u001b[0m in \u001b[0;36mto_dot\u001b[1;34m(self, path)\u001b[0m\n\u001b[0;32m    258\u001b[0m \u001b[1;33m\u001b[0m\u001b[0m\n\u001b[0;32m    259\u001b[0m         \u001b[1;31m# write dot\u001b[0m\u001b[1;33m\u001b[0m\u001b[1;33m\u001b[0m\u001b[0m\n\u001b[1;32m--> 260\u001b[1;33m         \u001b[0mwrite_dot\u001b[0m\u001b[1;33m(\u001b[0m\u001b[0mself\u001b[0m\u001b[1;33m.\u001b[0m\u001b[0mgraph\u001b[0m\u001b[1;33m,\u001b[0m \u001b[0mpath\u001b[0m\u001b[1;33m+\u001b[0m\u001b[0mfilename\u001b[0m\u001b[1;33m+\u001b[0m\u001b[1;34m'.dot'\u001b[0m\u001b[1;33m)\u001b[0m\u001b[1;33m\u001b[0m\u001b[0m\n\u001b[0m",
      "\u001b[1;32m<decorator-gen-605>\u001b[0m in \u001b[0;36mwrite_dot\u001b[1;34m(G, path)\u001b[0m\n",
      "\u001b[1;32m~\\Anaconda3\\envs\\discovery\\lib\\site-packages\\networkx\\utils\\decorators.py\u001b[0m in \u001b[0;36m_open_file\u001b[1;34m(func_to_be_decorated, *args, **kwargs)\u001b[0m\n\u001b[0;32m    203\u001b[0m         \u001b[1;32mif\u001b[0m \u001b[0mis_string_like\u001b[0m\u001b[1;33m(\u001b[0m\u001b[0mpath\u001b[0m\u001b[1;33m)\u001b[0m\u001b[1;33m:\u001b[0m\u001b[1;33m\u001b[0m\u001b[0m\n\u001b[0;32m    204\u001b[0m             \u001b[0mext\u001b[0m \u001b[1;33m=\u001b[0m \u001b[0msplitext\u001b[0m\u001b[1;33m(\u001b[0m\u001b[0mpath\u001b[0m\u001b[1;33m)\u001b[0m\u001b[1;33m[\u001b[0m\u001b[1;36m1\u001b[0m\u001b[1;33m]\u001b[0m\u001b[1;33m\u001b[0m\u001b[0m\n\u001b[1;32m--> 205\u001b[1;33m             \u001b[0mfobj\u001b[0m \u001b[1;33m=\u001b[0m \u001b[0m_dispatch_dict\u001b[0m\u001b[1;33m[\u001b[0m\u001b[0mext\u001b[0m\u001b[1;33m]\u001b[0m\u001b[1;33m(\u001b[0m\u001b[0mpath\u001b[0m\u001b[1;33m,\u001b[0m \u001b[0mmode\u001b[0m\u001b[1;33m=\u001b[0m\u001b[0mmode\u001b[0m\u001b[1;33m)\u001b[0m\u001b[1;33m\u001b[0m\u001b[0m\n\u001b[0m\u001b[0;32m    206\u001b[0m             \u001b[0mclose_fobj\u001b[0m \u001b[1;33m=\u001b[0m \u001b[1;32mTrue\u001b[0m\u001b[1;33m\u001b[0m\u001b[0m\n\u001b[0;32m    207\u001b[0m         \u001b[1;32melif\u001b[0m \u001b[0mhasattr\u001b[0m\u001b[1;33m(\u001b[0m\u001b[0mpath\u001b[0m\u001b[1;33m,\u001b[0m \u001b[1;34m'read'\u001b[0m\u001b[1;33m)\u001b[0m\u001b[1;33m:\u001b[0m\u001b[1;33m\u001b[0m\u001b[0m\n",
      "\u001b[1;31mFileNotFoundError\u001b[0m: [Errno 2] No such file or directory: 'output/sub_1803033E_2010_upstream.dot'"
     ]
    }
   ],
   "source": [
    "# will have colors\n",
    "upstream_example.to_dot()\n",
    "\n",
    "# won't have colors\n",
    "downstream_example.to_dot()"
   ]
  },
  {
   "cell_type": "markdown",
   "metadata": {},
   "source": [
    "In order to see the graph, copy the code in the saved dot file and paste it in the box on this [website](https://dreampuf.github.io/GraphvizOnline/). You can save the file in various formats.\n",
    "\n",
    "That's all the code needed to use the subWESTnet tool!\n",
    "\n",
    "----\n",
    "\n",
    "Below, there is an explanation on how to create a similar network. Instead of using the code in the previous cells, this method uses the original tool (which uses all utilities in the balancing calculations)."
   ]
  },
  {
   "cell_type": "code",
   "execution_count": 10,
   "metadata": {},
   "outputs": [
    {
     "ename": "FileNotFoundError",
     "evalue": "[Errno 2] No such file or directory: 'output/links_erl_2010.dot'",
     "output_type": "error",
     "traceback": [
      "\u001b[1;31m---------------------------------------------------------------------------\u001b[0m",
      "\u001b[1;31mFileNotFoundError\u001b[0m                         Traceback (most recent call last)",
      "\u001b[1;32m<ipython-input-10-237b2a940a35>\u001b[0m in \u001b[0;36m<module>\u001b[1;34m()\u001b[0m\n\u001b[0;32m      6\u001b[0m \u001b[1;33m\u001b[0m\u001b[0m\n\u001b[0;32m      7\u001b[0m \u001b[1;31m# balance graph\u001b[0m\u001b[1;33m\u001b[0m\u001b[1;33m\u001b[0m\u001b[0m\n\u001b[1;32m----> 8\u001b[1;33m \u001b[0mw\u001b[0m\u001b[1;33m.\u001b[0m\u001b[0mrun\u001b[0m\u001b[1;33m(\u001b[0m\u001b[1;36m2010\u001b[0m\u001b[1;33m,\u001b[0m \u001b[0mpdf\u001b[0m \u001b[1;33m=\u001b[0m \u001b[1;32mTrue\u001b[0m\u001b[1;33m,\u001b[0m \u001b[0mdot\u001b[0m\u001b[1;33m=\u001b[0m\u001b[1;32mFalse\u001b[0m\u001b[1;33m)\u001b[0m\u001b[1;33m\u001b[0m\u001b[0m\n\u001b[0m",
      "\u001b[1;32m~\\OneDrive\\Desktop\\Modules\\westnet-update\\network\\build.py\u001b[0m in \u001b[0;36mrun\u001b[1;34m(self, year, pdf, dot)\u001b[0m\n\u001b[0;32m     36\u001b[0m         \u001b[1;31m# Save Graph\u001b[0m\u001b[1;33m\u001b[0m\u001b[1;33m\u001b[0m\u001b[0m\n\u001b[0;32m     37\u001b[0m         \u001b[1;32mif\u001b[0m \u001b[0mpdf\u001b[0m\u001b[1;33m:\u001b[0m\u001b[1;33m\u001b[0m\u001b[0m\n\u001b[1;32m---> 38\u001b[1;33m             \u001b[0mnet\u001b[0m\u001b[1;33m.\u001b[0m\u001b[0mgraph_to_pdf\u001b[0m\u001b[1;33m(\u001b[0m\u001b[0mself\u001b[0m\u001b[1;33m,\u001b[0m \u001b[0mself\u001b[0m\u001b[1;33m.\u001b[0m\u001b[0mcompleted_nodes\u001b[0m\u001b[1;33m)\u001b[0m\u001b[1;33m;\u001b[0m\u001b[1;33m\u001b[0m\u001b[0m\n\u001b[0m\u001b[0;32m     39\u001b[0m \u001b[1;33m\u001b[0m\u001b[0m\n\u001b[0;32m     40\u001b[0m         \u001b[1;31m# Write dot file\u001b[0m\u001b[1;33m\u001b[0m\u001b[1;33m\u001b[0m\u001b[0m\n",
      "\u001b[1;32m~\\OneDrive\\Desktop\\Modules\\westnet-update\\network\\network.py\u001b[0m in \u001b[0;36mgraph_to_pdf\u001b[1;34m(self, completed_nodes, path)\u001b[0m\n\u001b[0;32m    151\u001b[0m \u001b[1;33m\u001b[0m\u001b[0m\n\u001b[0;32m    152\u001b[0m     \u001b[1;31m# Write the dot file\u001b[0m\u001b[1;33m\u001b[0m\u001b[1;33m\u001b[0m\u001b[0m\n\u001b[1;32m--> 153\u001b[1;33m     \u001b[0mwrite_dot\u001b[0m\u001b[1;33m(\u001b[0m\u001b[0mself\u001b[0m\u001b[1;33m.\u001b[0m\u001b[0mg\u001b[0m\u001b[1;33m,\u001b[0m \u001b[0mpath\u001b[0m\u001b[1;33m+\u001b[0m\u001b[0mfilename\u001b[0m\u001b[1;33m+\u001b[0m\u001b[1;34m'.dot'\u001b[0m\u001b[1;33m)\u001b[0m\u001b[1;33m;\u001b[0m\u001b[1;33m\u001b[0m\u001b[0m\n\u001b[0m\u001b[0;32m    154\u001b[0m \u001b[1;33m\u001b[0m\u001b[0m\n\u001b[0;32m    155\u001b[0m \u001b[1;33m\u001b[0m\u001b[0m\n",
      "\u001b[1;32m<decorator-gen-605>\u001b[0m in \u001b[0;36mwrite_dot\u001b[1;34m(G, path)\u001b[0m\n",
      "\u001b[1;32m~\\Anaconda3\\envs\\discovery\\lib\\site-packages\\networkx\\utils\\decorators.py\u001b[0m in \u001b[0;36m_open_file\u001b[1;34m(func_to_be_decorated, *args, **kwargs)\u001b[0m\n\u001b[0;32m    203\u001b[0m         \u001b[1;32mif\u001b[0m \u001b[0mis_string_like\u001b[0m\u001b[1;33m(\u001b[0m\u001b[0mpath\u001b[0m\u001b[1;33m)\u001b[0m\u001b[1;33m:\u001b[0m\u001b[1;33m\u001b[0m\u001b[0m\n\u001b[0;32m    204\u001b[0m             \u001b[0mext\u001b[0m \u001b[1;33m=\u001b[0m \u001b[0msplitext\u001b[0m\u001b[1;33m(\u001b[0m\u001b[0mpath\u001b[0m\u001b[1;33m)\u001b[0m\u001b[1;33m[\u001b[0m\u001b[1;36m1\u001b[0m\u001b[1;33m]\u001b[0m\u001b[1;33m\u001b[0m\u001b[0m\n\u001b[1;32m--> 205\u001b[1;33m             \u001b[0mfobj\u001b[0m \u001b[1;33m=\u001b[0m \u001b[0m_dispatch_dict\u001b[0m\u001b[1;33m[\u001b[0m\u001b[0mext\u001b[0m\u001b[1;33m]\u001b[0m\u001b[1;33m(\u001b[0m\u001b[0mpath\u001b[0m\u001b[1;33m,\u001b[0m \u001b[0mmode\u001b[0m\u001b[1;33m=\u001b[0m\u001b[0mmode\u001b[0m\u001b[1;33m)\u001b[0m\u001b[1;33m\u001b[0m\u001b[0m\n\u001b[0m\u001b[0;32m    206\u001b[0m             \u001b[0mclose_fobj\u001b[0m \u001b[1;33m=\u001b[0m \u001b[1;32mTrue\u001b[0m\u001b[1;33m\u001b[0m\u001b[0m\n\u001b[0;32m    207\u001b[0m         \u001b[1;32melif\u001b[0m \u001b[0mhasattr\u001b[0m\u001b[1;33m(\u001b[0m\u001b[0mpath\u001b[0m\u001b[1;33m,\u001b[0m \u001b[1;34m'read'\u001b[0m\u001b[1;33m)\u001b[0m\u001b[1;33m:\u001b[0m\u001b[1;33m\u001b[0m\u001b[0m\n",
      "\u001b[1;31mFileNotFoundError\u001b[0m: [Errno 2] No such file or directory: 'output/links_erl_2010.dot'"
     ]
    }
   ],
   "source": [
    "from build import WESTNet\n",
    "import network as net\n",
    "\n",
    "# Initialize model\n",
    "w = WESTNet('data/links_erl.csv')\n",
    "\n",
    "# balance graph\n",
    "w.run(2010, pdf = True, dot=False)"
   ]
  },
  {
   "cell_type": "markdown",
   "metadata": {},
   "source": [
    "In order to create the upstream or downstream network, use `.create_subgraph(...)`. The arguments are as follows\n",
    "\n",
    "1. **Utility (required)** - A string of the utility name\n",
    "2. **Filename (required)** - The name that the dot file will be saved to. Will be saved in the `output` folder.\n",
    "3. **Up (default=False)** -  This is if you want an upstream or downstream graph.\n",
    "4. **csv (default=True)** -  If true, the table of volume weighted averages will be saved to a csv.\n",
    "\n",
    "The following cell will save the upstream graph from `1803033E` and save the resulting network to the specified file name. The csv file of weighted averages will not be saved, but will be shown in the output."
   ]
  },
  {
   "cell_type": "code",
   "execution_count": 12,
   "metadata": {},
   "outputs": [
    {
     "data": {
      "text/html": [
       "<div>\n",
       "<style scoped>\n",
       "    .dataframe tbody tr th:only-of-type {\n",
       "        vertical-align: middle;\n",
       "    }\n",
       "\n",
       "    .dataframe tbody tr th {\n",
       "        vertical-align: top;\n",
       "    }\n",
       "\n",
       "    .dataframe thead th {\n",
       "        text-align: right;\n",
       "    }\n",
       "</style>\n",
       "<table border=\"1\" class=\"dataframe\">\n",
       "  <thead>\n",
       "    <tr style=\"text-align: right;\">\n",
       "      <th></th>\n",
       "      <th>node</th>\n",
       "      <th>kwh/af</th>\n",
       "    </tr>\n",
       "  </thead>\n",
       "  <tbody>\n",
       "    <tr>\n",
       "      <th>0</th>\n",
       "      <td>1803033PD</td>\n",
       "      <td>639.384932</td>\n",
       "    </tr>\n",
       "    <tr>\n",
       "      <th>1</th>\n",
       "      <td>1803033E</td>\n",
       "      <td>392.483777</td>\n",
       "    </tr>\n",
       "    <tr>\n",
       "      <th>2</th>\n",
       "      <td>1803033REC</td>\n",
       "      <td>0.642618</td>\n",
       "    </tr>\n",
       "    <tr>\n",
       "      <th>3</th>\n",
       "      <td>FRES_ID</td>\n",
       "      <td>0.000000</td>\n",
       "    </tr>\n",
       "    <tr>\n",
       "      <th>4</th>\n",
       "      <td>SW_CVPFKC</td>\n",
       "      <td>0.000000</td>\n",
       "    </tr>\n",
       "    <tr>\n",
       "      <th>5</th>\n",
       "      <td>GWR1803-5-22.08</td>\n",
       "      <td>1844.642618</td>\n",
       "    </tr>\n",
       "    <tr>\n",
       "      <th>6</th>\n",
       "      <td>1803033NPD</td>\n",
       "      <td>236.642618</td>\n",
       "    </tr>\n",
       "    <tr>\n",
       "      <th>7</th>\n",
       "      <td>GW1803-5-22.08</td>\n",
       "      <td>0.000000</td>\n",
       "    </tr>\n",
       "    <tr>\n",
       "      <th>8</th>\n",
       "      <td>GW1803-5-22</td>\n",
       "      <td>0.000000</td>\n",
       "    </tr>\n",
       "    <tr>\n",
       "      <th>9</th>\n",
       "      <td>WWT1803033</td>\n",
       "      <td>0.000000</td>\n",
       "    </tr>\n",
       "    <tr>\n",
       "      <th>10</th>\n",
       "      <td>1803033GW</td>\n",
       "      <td>604.416306</td>\n",
       "    </tr>\n",
       "    <tr>\n",
       "      <th>11</th>\n",
       "      <td>RES_MLRTN</td>\n",
       "      <td>0.000000</td>\n",
       "    </tr>\n",
       "  </tbody>\n",
       "</table>\n",
       "</div>"
      ],
      "text/plain": [
       "               node       kwh/af\n",
       "0         1803033PD   639.384932\n",
       "1          1803033E   392.483777\n",
       "2        1803033REC     0.642618\n",
       "3           FRES_ID     0.000000\n",
       "4         SW_CVPFKC     0.000000\n",
       "5   GWR1803-5-22.08  1844.642618\n",
       "6        1803033NPD   236.642618\n",
       "7    GW1803-5-22.08     0.000000\n",
       "8       GW1803-5-22     0.000000\n",
       "9        WWT1803033     0.000000\n",
       "10        1803033GW   604.416306\n",
       "11        RES_MLRTN     0.000000"
      ]
     },
     "execution_count": 12,
     "metadata": {},
     "output_type": "execute_result"
    }
   ],
   "source": [
    "w.create_subgraph('1803033E', '1803033E_upstream_full_balance', up=True, csv=False)"
   ]
  },
  {
   "cell_type": "markdown",
   "metadata": {},
   "source": [
    "Like before, if you want to see the network, go to the dot file and paste the code in the dot file [here](https://dreampuf.github.io/GraphvizOnline/)."
   ]
  },
  {
   "cell_type": "markdown",
   "metadata": {},
   "source": [
    "----"
   ]
  }
 ],
 "metadata": {
  "kernelspec": {
   "display_name": "Python 3",
   "language": "python",
   "name": "python3"
  },
  "language_info": {
   "codemirror_mode": {
    "name": "ipython",
    "version": 3
   },
   "file_extension": ".py",
   "mimetype": "text/x-python",
   "name": "python",
   "nbconvert_exporter": "python",
   "pygments_lexer": "ipython3",
   "version": "3.6.5"
  }
 },
 "nbformat": 4,
 "nbformat_minor": 2
}
