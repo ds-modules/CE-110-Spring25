{
 "cells": [
  {
   "cell_type": "markdown",
   "metadata": {},
   "source": [
    "# Outline of Lab:\n",
    "\n",
    "### 1. Introduction: Transition from Sankey\n",
    " - \"You've now *visualized* the water transmission between and analyzed acquired an intuition as to why you saw the change that you saw. Now you'll look at this data in barplots alongside with energy transmission data and analyze the ratio of energy consumption to the volume of transported water...\"\n",
    "\n",
    "### 2. Introduce data\n",
    "- <div style = \"color: orange\">**NOTE:** I made a new csv so students don't have to worrya bout 2010 and 2015 data being separate, combining them together, and then filtering out uncessary water targets and years. The new csv is called `network.csv`</div>\n",
    "- Take a moment to explain the data. What do the columns mean? Do we need any more columns? What does \"source\" and \"target\" mean? What to the \"year\" columns mean?\n",
    "    - create the new \"Total Energy\" column here!\n",
    "- *Note*: Intro notebook MUST cover `.where()` and `.group()` functions thoroughly.\n",
    "\n",
    "### 3. Analysis Example!\n",
    "- Conduct example analysis on Cerrito utility. Make sure to **explain** what you're doing and why: what will the students take away from this analysis? Ask discussion questions to make sure students are following, and **provide your own interpretation**.\n",
    "- As a part of the analysis, plot a bargraph with 2010, predicted 2015 and actual 2015 data.\n",
    "- *Note:* Make sure to interpret the graph at some point. Students will be looking to see an example of how you analyze the graph to do it themselves.\n",
    "- Finally, compare and **discuss** the total energy to cumulative water volume ratio between 2010, predicted 2015\n",
    "\n",
    "### 4. Students try their own utility!\n",
    "- provide some skeleton code, have students produce the same bar graphs & look at energy to water ratio, write down their interpretation, answer discussion questions.\n",
    "\n",
    "### 5. Big Picture: what did this look like overall across California?\n",
    "- Use all utilities to conduct the same analysis\n",
    "- discuss effect of drought, ratio\n",
    "- Discussion questions, ask if students' utilities experiences the same trend.\n",
    "\n",
    "### 6. Conclusion:\n",
    "- Peer consulting (resource)\n",
    "- Survey"
   ]
  },
  {
   "cell_type": "markdown",
   "metadata": {},
   "source": [
    "---\n",
    "\n",
    "# Notes for Mina (4/4/19)\n",
    "\n",
    "1. Data:\n",
    "    - Keiko to get rid of unnecessary columns\n",
    "    - Explain that the **`year`** column only contains three values: 2010, 2015, and Predicted 2015\n",
    "    - Explain what \"Predicted 2015\" is\n",
    "    - Explain that the \"target\" column contains **only** water utilities, while the **source** columns contain any water source that provides water to those target utilities.\n",
    "    * Explain what students will be doing with the data!\n",
    "\n",
    "2. `.where()` function: briefly go over what it does\n",
    "    - In the intro notebook, Keiko will provide examples of how to extract dates and utilities out from dataframe so students are prepared to do ths in your lab\n",
    "\n",
    "3. `.sort()` function: don't need! Get rid of this\n",
    "\n",
    "4. Cerritos Example: \n",
    "    - output dataframes for 2010, provide blub of what to notice\n",
    "    - same for 2015\n",
    "    - Quickly compare values you see in 2010 and in 2015\n",
    "\n",
    "5. Students try their own:\n",
    "    - provide same structure as above\n",
    "    - provide relevant discussion questions\n",
    "    \n",
    "6. Move onto \"Further Analysis\".\n",
    "    - Explain what you will do for further analysis (maybe finish making this part of the lab and come back to writing the description)\n",
    "    - Explain why you are introducing the formulas: why do you need it / what will you do with it\n",
    "    - Go right into visualization\n",
    "    - analyze vizualization -- what should you notice?\n",
    "    - Calculate relevant difference / percent difference measures\n",
    "    - Ratio analysis -- make sure you explain why you're doing this thoroughly\n",
    "    \n",
    "7. Students try their own! Restructure order so it follows the same flow as the Cerritos example."
   ]
  },
  {
   "cell_type": "markdown",
   "metadata": {},
   "source": [
    "# Documentation: Making Class Data for Analysis\n",
    "\n",
    "We had two data files provided: the 2010 and 2015 networks data. Here, we take you through the steps in how we constructed the class data.\n",
    "\n",
    "**Idea:**\n",
    "- We wanted the `year` column to contain the string values \"2010\", \"2015\", and \"Predicted 2015\"\n",
    "- The `target` column to ONLY contain Utility Codes, not any other water source\n",
    "- To simply the table, only contain the following columns: \n",
    "    - year, source, target, cumulative_volume_af, transmission_kwh/af\n"
   ]
  },
  {
   "cell_type": "code",
   "execution_count": 1,
   "metadata": {},
   "outputs": [],
   "source": [
    "import pandas as pd\n",
    "import numpy as np"
   ]
  },
  {
   "cell_type": "markdown",
   "metadata": {},
   "source": [
    "Since both 2010 and 2015 data have the same structure, we can simply concatenate the two to make one large data frame which we call `data` below"
   ]
  },
  {
   "cell_type": "code",
   "execution_count": 2,
   "metadata": {},
   "outputs": [],
   "source": [
    "data2010 = pd.read_csv('network2010.csv')\n",
    "data2015 = pd.read_csv('network2015.csv')\n",
    "data = data2010.append(data2015)"
   ]
  },
  {
   "cell_type": "markdown",
   "metadata": {},
   "source": [
    "We want the target column to only contain Utiltiy Codes. Utility Codes are the only codes that always end with the letter `E` at the end of the 7 digit number -- we first make a list of all utility codes using this condition then filter the data to only contain those utility codes under the `target` column."
   ]
  },
  {
   "cell_type": "code",
   "execution_count": 3,
   "metadata": {},
   "outputs": [],
   "source": [
    "#Extracting all utility codes\n",
    "utilities = [utility for utility in data2010['target'].unique() if \"E\" == utility[-1]]\n",
    "\n",
    "# Filtering DataFrame\n",
    "util_data = data[data['target'].isin(utilities)]"
   ]
  },
  {
   "cell_type": "code",
   "execution_count": 13,
   "metadata": {},
   "outputs": [
    {
     "data": {
      "text/html": [
       "<div>\n",
       "<style scoped>\n",
       "    .dataframe tbody tr th:only-of-type {\n",
       "        vertical-align: middle;\n",
       "    }\n",
       "\n",
       "    .dataframe tbody tr th {\n",
       "        vertical-align: top;\n",
       "    }\n",
       "\n",
       "    .dataframe thead th {\n",
       "        text-align: right;\n",
       "    }\n",
       "</style>\n",
       "<table border=\"1\" class=\"dataframe\">\n",
       "  <thead>\n",
       "    <tr style=\"text-align: right;\">\n",
       "      <th></th>\n",
       "      <th>year</th>\n",
       "      <th>data_year</th>\n",
       "      <th>source</th>\n",
       "      <th>target</th>\n",
       "      <th>cumulative_volume_af</th>\n",
       "      <th>transmission_kwh/af</th>\n",
       "      <th>treatment_kwh/af</th>\n",
       "      <th>used_vol_af</th>\n",
       "    </tr>\n",
       "  </thead>\n",
       "  <tbody>\n",
       "    <tr>\n",
       "      <th>2707</th>\n",
       "      <td>2015</td>\n",
       "      <td>2010</td>\n",
       "      <td>1807413PD</td>\n",
       "      <td>1807413E</td>\n",
       "      <td>11616.720000</td>\n",
       "      <td>163.10</td>\n",
       "      <td>0.0</td>\n",
       "      <td>11616.720000</td>\n",
       "    </tr>\n",
       "    <tr>\n",
       "      <th>2708</th>\n",
       "      <td>2015</td>\n",
       "      <td>2010</td>\n",
       "      <td>1807415NPD</td>\n",
       "      <td>1807415E</td>\n",
       "      <td>45.000000</td>\n",
       "      <td>195.72</td>\n",
       "      <td>0.0</td>\n",
       "      <td>45.000000</td>\n",
       "    </tr>\n",
       "    <tr>\n",
       "      <th>2709</th>\n",
       "      <td>2015</td>\n",
       "      <td>2010</td>\n",
       "      <td>1807415PD</td>\n",
       "      <td>1807415E</td>\n",
       "      <td>8837.000000</td>\n",
       "      <td>163.10</td>\n",
       "      <td>0.0</td>\n",
       "      <td>8837.000000</td>\n",
       "    </tr>\n",
       "    <tr>\n",
       "      <th>2711</th>\n",
       "      <td>2015</td>\n",
       "      <td>2010</td>\n",
       "      <td>1807417PD</td>\n",
       "      <td>1807417E</td>\n",
       "      <td>26536.950000</td>\n",
       "      <td>163.10</td>\n",
       "      <td>0.0</td>\n",
       "      <td>26536.950000</td>\n",
       "    </tr>\n",
       "    <tr>\n",
       "      <th>2713</th>\n",
       "      <td>2015</td>\n",
       "      <td>2010</td>\n",
       "      <td>1807419NPD</td>\n",
       "      <td>1807419E</td>\n",
       "      <td>266.993604</td>\n",
       "      <td>195.72</td>\n",
       "      <td>0.0</td>\n",
       "      <td>266.993604</td>\n",
       "    </tr>\n",
       "  </tbody>\n",
       "</table>\n",
       "</div>"
      ],
      "text/plain": [
       "      year  data_year      source    target  cumulative_volume_af  \\\n",
       "2707  2015       2010   1807413PD  1807413E          11616.720000   \n",
       "2708  2015       2010  1807415NPD  1807415E             45.000000   \n",
       "2709  2015       2010   1807415PD  1807415E           8837.000000   \n",
       "2711  2015       2010   1807417PD  1807417E          26536.950000   \n",
       "2713  2015       2010  1807419NPD  1807419E            266.993604   \n",
       "\n",
       "      transmission_kwh/af  treatment_kwh/af   used_vol_af  \n",
       "2707               163.10               0.0  11616.720000  \n",
       "2708               195.72               0.0     45.000000  \n",
       "2709               163.10               0.0   8837.000000  \n",
       "2711               163.10               0.0  26536.950000  \n",
       "2713               195.72               0.0    266.993604  "
      ]
     },
     "execution_count": 13,
     "metadata": {},
     "output_type": "execute_result"
    }
   ],
   "source": [
    "# Look at the table here as an example when reading the blurb on year columns below\n",
    "util_data.iloc[1000:1005,:]"
   ]
  },
  {
   "cell_type": "markdown",
   "metadata": {},
   "source": [
    "`data_year` indicates when the record was entered into the data, while `year` indicates the year corresponding to the values of rows. For example (above), `data_year` can be 2010 and `year` can be 2015 in the same row: this indicates that predictions for 2015 were made in 2010.\n",
    "\n",
    "Note that since we only have the recorded data from 2010 and 2015, `data_year` only contains 2010 and 2015. However, for each of these years, there we many predictions made about the future, so `year` contains many different years. For the purposes of our lab, we were only interested in 2010 values (actual values), and 2015 values (either actual or predicted). \n",
    "\n",
    "To construct our desired table, we split up the data into two tables: table containing predicted 2015, and table containing actual 2010 and actual 2015. We then relabeled the values such that the new simplified `year` columns contain one of three values:\n",
    "    - \"2010\"\n",
    "    - \"2015\"\n",
    "    - \"Predicted 2015\"\n",
    "   "
   ]
  },
  {
   "cell_type": "code",
   "execution_count": 19,
   "metadata": {},
   "outputs": [],
   "source": [
    "# Keeping only 2010 and 2015 data under year column\n",
    "\n",
    "util_data = util_data[util_data['year'].isin([2010, 2015])]"
   ]
  },
  {
   "cell_type": "code",
   "execution_count": 63,
   "metadata": {
    "scrolled": true
   },
   "outputs": [
    {
     "data": {
      "text/html": [
       "<div>\n",
       "<style scoped>\n",
       "    .dataframe tbody tr th:only-of-type {\n",
       "        vertical-align: middle;\n",
       "    }\n",
       "\n",
       "    .dataframe tbody tr th {\n",
       "        vertical-align: top;\n",
       "    }\n",
       "\n",
       "    .dataframe thead th {\n",
       "        text-align: right;\n",
       "    }\n",
       "</style>\n",
       "<table border=\"1\" class=\"dataframe\">\n",
       "  <thead>\n",
       "    <tr style=\"text-align: right;\">\n",
       "      <th></th>\n",
       "      <th>year</th>\n",
       "      <th>source</th>\n",
       "      <th>target</th>\n",
       "      <th>cumulative_volume_af</th>\n",
       "      <th>total_energy_kwh</th>\n",
       "    </tr>\n",
       "  </thead>\n",
       "  <tbody>\n",
       "    <tr>\n",
       "      <th>0</th>\n",
       "      <td>2010</td>\n",
       "      <td>1801001PD</td>\n",
       "      <td>1801001E</td>\n",
       "      <td>1624.00</td>\n",
       "      <td>264874.400</td>\n",
       "    </tr>\n",
       "    <tr>\n",
       "      <th>1</th>\n",
       "      <td>2010</td>\n",
       "      <td>1801007PD</td>\n",
       "      <td>1801007E</td>\n",
       "      <td>2015.20</td>\n",
       "      <td>328679.120</td>\n",
       "    </tr>\n",
       "    <tr>\n",
       "      <th>2</th>\n",
       "      <td>2010</td>\n",
       "      <td>1801009PD</td>\n",
       "      <td>1801009E</td>\n",
       "      <td>2924.55</td>\n",
       "      <td>476994.105</td>\n",
       "    </tr>\n",
       "    <tr>\n",
       "      <th>3</th>\n",
       "      <td>2010</td>\n",
       "      <td>1801011PD</td>\n",
       "      <td>1801011E</td>\n",
       "      <td>1350.00</td>\n",
       "      <td>220185.000</td>\n",
       "    </tr>\n",
       "    <tr>\n",
       "      <th>4</th>\n",
       "      <td>2010</td>\n",
       "      <td>1801015PD</td>\n",
       "      <td>1801015E</td>\n",
       "      <td>840.00</td>\n",
       "      <td>137004.000</td>\n",
       "    </tr>\n",
       "  </tbody>\n",
       "</table>\n",
       "</div>"
      ],
      "text/plain": [
       "   year     source    target  cumulative_volume_af  total_energy_kwh\n",
       "0  2010  1801001PD  1801001E               1624.00        264874.400\n",
       "1  2010  1801007PD  1801007E               2015.20        328679.120\n",
       "2  2010  1801009PD  1801009E               2924.55        476994.105\n",
       "3  2010  1801011PD  1801011E               1350.00        220185.000\n",
       "4  2010  1801015PD  1801015E                840.00        137004.000"
      ]
     },
     "execution_count": 63,
     "metadata": {},
     "output_type": "execute_result"
    }
   ],
   "source": [
    "# if data was entered in 2010 but the year reads 2015, then the values correspond to Predicted 2015\n",
    "predicted = util_data[(util_data['data_year'] == 2010) & (util_data['year'] == 2015)]\n",
    "\n",
    "# If data_year says 2015, corresponding records MUST be actual 2015 data (given filter in cell above)\n",
    "# If year says 2010, corresponding records MUST be actual 2010 data\n",
    "\n",
    "actual_data = util_data[(util_data['data_year'] == 2015) | (util_data['year'] == 2010)]\n",
    "\n",
    "# Creating proper String Value Types for the year column\n",
    "predicted['year'] = np.repeat(\"Predicted 2015\", len(predicted))\n",
    "actual_data['year'] = actual_data['year'].apply(str)"
   ]
  },
  {
   "cell_type": "code",
   "execution_count": 61,
   "metadata": {},
   "outputs": [
    {
     "name": "stderr",
     "output_type": "stream",
     "text": [
      "C:\\Users\\keiko\\Anaconda3\\envs\\discovery\\lib\\site-packages\\pandas\\core\\indexing.py:1472: FutureWarning: \n",
      "Passing list-likes to .loc or [] with any missing label will raise\n",
      "KeyError in the future, you can use .reindex() as an alternative.\n",
      "\n",
      "See the documentation here:\n",
      "https://pandas.pydata.org/pandas-docs/stable/indexing.html#deprecate-loc-reindex-listlike\n",
      "  return self._getitem_tuple(key)\n"
     ]
    }
   ],
   "source": [
    "# Appending the actual and predicted data into one large table\n",
    "data = actual_data.append(predicted)"
   ]
  },
  {
   "cell_type": "code",
   "execution_count": null,
   "metadata": {
    "scrolled": true
   },
   "outputs": [],
   "source": [
    "# Keeping only necessary columns\n",
    "data = data.loc[:, ['year', 'source', 'target', 'cumulative_volume_af', 'transmission_kwh/af']]\n",
    "\n",
    "# Saving the final class data as csv titled \"network.csv\"\n",
    "data.to_csv('network.csv', index = False)"
   ]
  }
 ],
 "metadata": {
  "kernelspec": {
   "display_name": "Python 3",
   "language": "python",
   "name": "python3"
  },
  "language_info": {
   "codemirror_mode": {
    "name": "ipython",
    "version": 3
   },
   "file_extension": ".py",
   "mimetype": "text/x-python",
   "name": "python",
   "nbconvert_exporter": "python",
   "pygments_lexer": "ipython3",
   "version": "3.6.5"
  }
 },
 "nbformat": 4,
 "nbformat_minor": 2
}
